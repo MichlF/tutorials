{
 "cells": [
  {
   "cell_type": "markdown",
   "metadata": {},
   "source": [
    "# Plotting with Seaborn\n",
    "\n",
    "Some practice for plotting with seaborn using my StatsReg-Strength data"
   ]
  },
  {
   "cell_type": "markdown",
   "metadata": {},
   "source": [
    "## Normal plotting"
   ]
  },
  {
   "cell_type": "markdown",
   "metadata": {},
   "source": [
    "### Go to Dropbox path"
   ]
  },
  {
   "cell_type": "code",
   "execution_count": 1,
   "metadata": {},
   "outputs": [
    {
     "name": "stdout",
     "output_type": "stream",
     "text": [
      "/Users/michlf/Documents/GitHub/tutorials\n",
      "/Users/michlf/Dropbox/Work/Data/behavioral/attention/StatisticalRegularities/locations/Salience/Exp1/beh/analysis\n"
     ]
    }
   ],
   "source": [
    "import warnings\n",
    "warnings.filterwarnings('ignore')\n",
    "import os\n",
    "print(os.getcwd())\n",
    "try:\n",
    "    os.chdir(r'F:\\Dropbox\\Work\\Data\\behavioral\\attention\\StatisticalRegularities\\locations\\Salience\\Exp1\\beh\\analysis')\n",
    "except:\n",
    "    os.chdir('/Users/michlf/Dropbox/Work/Data/behavioral/attention/StatisticalRegularities/locations/Salience/Exp1/beh/analysis')\n",
    "print(os.getcwd())"
   ]
  },
  {
   "cell_type": "markdown",
   "metadata": {},
   "source": [
    "### Import data & prepare for plotting"
   ]
  },
  {
   "cell_type": "code",
   "execution_count": 2,
   "metadata": {
    "scrolled": false
   },
   "outputs": [
    {
     "data": {
      "text/html": [
       "<div>\n",
       "<style scoped>\n",
       "    .dataframe tbody tr th:only-of-type {\n",
       "        vertical-align: middle;\n",
       "    }\n",
       "\n",
       "    .dataframe tbody tr th {\n",
       "        vertical-align: top;\n",
       "    }\n",
       "\n",
       "    .dataframe thead th {\n",
       "        text-align: right;\n",
       "    }\n",
       "</style>\n",
       "<table border=\"1\" class=\"dataframe\">\n",
       "  <thead>\n",
       "    <tr style=\"text-align: right;\">\n",
       "      <th></th>\n",
       "      <th>acc</th>\n",
       "      <th>accuracy</th>\n",
       "      <th>answerQ1</th>\n",
       "      <th>answerQ2</th>\n",
       "      <th>answerQ3</th>\n",
       "      <th>average_response_time</th>\n",
       "      <th>avg_rt</th>\n",
       "      <th>background</th>\n",
       "      <th>bidi</th>\n",
       "      <th>canvas_backend</th>\n",
       "      <th>...</th>\n",
       "      <th>title</th>\n",
       "      <th>total_correct</th>\n",
       "      <th>total_response_time</th>\n",
       "      <th>total_responses</th>\n",
       "      <th>uniform_coordinates</th>\n",
       "      <th>width</th>\n",
       "      <th>Search RT &gt; 200</th>\n",
       "      <th>previousTrial</th>\n",
       "      <th>DisDistance</th>\n",
       "      <th>location_priming</th>\n",
       "    </tr>\n",
       "  </thead>\n",
       "  <tbody>\n",
       "    <tr>\n",
       "      <th>0</th>\n",
       "      <td>undefined</td>\n",
       "      <td>undefined</td>\n",
       "      <td>NaN</td>\n",
       "      <td>NaN</td>\n",
       "      <td>NaN</td>\n",
       "      <td>8386.849092</td>\n",
       "      <td>8386.849092</td>\n",
       "      <td>black</td>\n",
       "      <td>no</td>\n",
       "      <td>psycho</td>\n",
       "      <td>...</td>\n",
       "      <td>study_X</td>\n",
       "      <td>0</td>\n",
       "      <td>8386.849092</td>\n",
       "      <td>1</td>\n",
       "      <td>yes</td>\n",
       "      <td>1680</td>\n",
       "      <td>1</td>\n",
       "      <td>0</td>\n",
       "      <td>Dis-3</td>\n",
       "      <td>swap</td>\n",
       "    </tr>\n",
       "    <tr>\n",
       "      <th>1</th>\n",
       "      <td>undefined</td>\n",
       "      <td>undefined</td>\n",
       "      <td>NaN</td>\n",
       "      <td>NaN</td>\n",
       "      <td>NaN</td>\n",
       "      <td>8386.849092</td>\n",
       "      <td>8386.849092</td>\n",
       "      <td>black</td>\n",
       "      <td>no</td>\n",
       "      <td>psycho</td>\n",
       "      <td>...</td>\n",
       "      <td>study_X</td>\n",
       "      <td>0</td>\n",
       "      <td>8386.849092</td>\n",
       "      <td>1</td>\n",
       "      <td>yes</td>\n",
       "      <td>1680</td>\n",
       "      <td>1</td>\n",
       "      <td>0</td>\n",
       "      <td>Dis-4</td>\n",
       "      <td>swap</td>\n",
       "    </tr>\n",
       "    <tr>\n",
       "      <th>2</th>\n",
       "      <td>undefined</td>\n",
       "      <td>undefined</td>\n",
       "      <td>NaN</td>\n",
       "      <td>NaN</td>\n",
       "      <td>NaN</td>\n",
       "      <td>8386.849092</td>\n",
       "      <td>8386.849092</td>\n",
       "      <td>black</td>\n",
       "      <td>no</td>\n",
       "      <td>psycho</td>\n",
       "      <td>...</td>\n",
       "      <td>study_X</td>\n",
       "      <td>0</td>\n",
       "      <td>8386.849092</td>\n",
       "      <td>1</td>\n",
       "      <td>yes</td>\n",
       "      <td>1680</td>\n",
       "      <td>1</td>\n",
       "      <td>high N-1</td>\n",
       "      <td>Dis-1</td>\n",
       "      <td>swap</td>\n",
       "    </tr>\n",
       "    <tr>\n",
       "      <th>3</th>\n",
       "      <td>undefined</td>\n",
       "      <td>undefined</td>\n",
       "      <td>NaN</td>\n",
       "      <td>NaN</td>\n",
       "      <td>NaN</td>\n",
       "      <td>8386.849092</td>\n",
       "      <td>8386.849092</td>\n",
       "      <td>black</td>\n",
       "      <td>no</td>\n",
       "      <td>psycho</td>\n",
       "      <td>...</td>\n",
       "      <td>study_X</td>\n",
       "      <td>0</td>\n",
       "      <td>8386.849092</td>\n",
       "      <td>1</td>\n",
       "      <td>yes</td>\n",
       "      <td>1680</td>\n",
       "      <td>0</td>\n",
       "      <td>high N-1</td>\n",
       "      <td>Dis-2</td>\n",
       "      <td>swap</td>\n",
       "    </tr>\n",
       "    <tr>\n",
       "      <th>4</th>\n",
       "      <td>undefined</td>\n",
       "      <td>undefined</td>\n",
       "      <td>NaN</td>\n",
       "      <td>NaN</td>\n",
       "      <td>NaN</td>\n",
       "      <td>8386.849092</td>\n",
       "      <td>8386.849092</td>\n",
       "      <td>black</td>\n",
       "      <td>no</td>\n",
       "      <td>psycho</td>\n",
       "      <td>...</td>\n",
       "      <td>study_X</td>\n",
       "      <td>0</td>\n",
       "      <td>8386.849092</td>\n",
       "      <td>1</td>\n",
       "      <td>yes</td>\n",
       "      <td>1680</td>\n",
       "      <td>1</td>\n",
       "      <td>high N-1</td>\n",
       "      <td>Dis-0</td>\n",
       "      <td>swap</td>\n",
       "    </tr>\n",
       "  </tbody>\n",
       "</table>\n",
       "<p>5 rows × 168 columns</p>\n",
       "</div>"
      ],
      "text/plain": [
       "         acc   accuracy  answerQ1  answerQ2  answerQ3  average_response_time  \\\n",
       "0  undefined  undefined       NaN       NaN       NaN            8386.849092   \n",
       "1  undefined  undefined       NaN       NaN       NaN            8386.849092   \n",
       "2  undefined  undefined       NaN       NaN       NaN            8386.849092   \n",
       "3  undefined  undefined       NaN       NaN       NaN            8386.849092   \n",
       "4  undefined  undefined       NaN       NaN       NaN            8386.849092   \n",
       "\n",
       "        avg_rt background bidi canvas_backend  ...    title total_correct  \\\n",
       "0  8386.849092      black   no         psycho  ...  study_X             0   \n",
       "1  8386.849092      black   no         psycho  ...  study_X             0   \n",
       "2  8386.849092      black   no         psycho  ...  study_X             0   \n",
       "3  8386.849092      black   no         psycho  ...  study_X             0   \n",
       "4  8386.849092      black   no         psycho  ...  study_X             0   \n",
       "\n",
       "  total_response_time total_responses  uniform_coordinates width  \\\n",
       "0         8386.849092               1                  yes  1680   \n",
       "1         8386.849092               1                  yes  1680   \n",
       "2         8386.849092               1                  yes  1680   \n",
       "3         8386.849092               1                  yes  1680   \n",
       "4         8386.849092               1                  yes  1680   \n",
       "\n",
       "  Search RT > 200 previousTrial DisDistance location_priming  \n",
       "0               1             0       Dis-3             swap  \n",
       "1               1             0       Dis-4             swap  \n",
       "2               1      high N-1       Dis-1             swap  \n",
       "3               0      high N-1       Dis-2             swap  \n",
       "4               1      high N-1       Dis-0             swap  \n",
       "\n",
       "[5 rows x 168 columns]"
      ]
     },
     "execution_count": 2,
     "metadata": {},
     "output_type": "execute_result"
    }
   ],
   "source": [
    "import pandas as pd\n",
    "data=pd.read_excel(\"analysisSAL1.xlsx\", sheet_name=0)\n",
    "data.head()"
   ]
  },
  {
   "cell_type": "code",
   "execution_count": 3,
   "metadata": {},
   "outputs": [
    {
     "data": {
      "text/html": [
       "<div>\n",
       "<style scoped>\n",
       "    .dataframe tbody tr th:only-of-type {\n",
       "        vertical-align: middle;\n",
       "    }\n",
       "\n",
       "    .dataframe tbody tr th {\n",
       "        vertical-align: top;\n",
       "    }\n",
       "\n",
       "    .dataframe thead th {\n",
       "        text-align: right;\n",
       "    }\n",
       "</style>\n",
       "<table border=\"1\" class=\"dataframe\">\n",
       "  <thead>\n",
       "    <tr style=\"text-align: right;\">\n",
       "      <th>cond_disLocation</th>\n",
       "      <th>highProb</th>\n",
       "      <th>highProbOther</th>\n",
       "      <th>lowProb</th>\n",
       "    </tr>\n",
       "    <tr>\n",
       "      <th>subject_nr</th>\n",
       "      <th></th>\n",
       "      <th></th>\n",
       "      <th></th>\n",
       "    </tr>\n",
       "  </thead>\n",
       "  <tbody>\n",
       "    <tr>\n",
       "      <th>1</th>\n",
       "      <td>901.018699</td>\n",
       "      <td>887.546564</td>\n",
       "      <td>910.469638</td>\n",
       "    </tr>\n",
       "    <tr>\n",
       "      <th>2</th>\n",
       "      <td>624.201224</td>\n",
       "      <td>633.482632</td>\n",
       "      <td>675.431795</td>\n",
       "    </tr>\n",
       "    <tr>\n",
       "      <th>3</th>\n",
       "      <td>611.471170</td>\n",
       "      <td>615.974001</td>\n",
       "      <td>629.637109</td>\n",
       "    </tr>\n",
       "    <tr>\n",
       "      <th>4</th>\n",
       "      <td>812.504266</td>\n",
       "      <td>830.118105</td>\n",
       "      <td>841.104295</td>\n",
       "    </tr>\n",
       "    <tr>\n",
       "      <th>5</th>\n",
       "      <td>856.474157</td>\n",
       "      <td>893.741163</td>\n",
       "      <td>890.143513</td>\n",
       "    </tr>\n",
       "  </tbody>\n",
       "</table>\n",
       "</div>"
      ],
      "text/plain": [
       "cond_disLocation    highProb  highProbOther     lowProb\n",
       "subject_nr                                             \n",
       "1                 901.018699     887.546564  910.469638\n",
       "2                 624.201224     633.482632  675.431795\n",
       "3                 611.471170     615.974001  629.637109\n",
       "4                 812.504266     830.118105  841.104295\n",
       "5                 856.474157     893.741163  890.143513"
      ]
     },
     "execution_count": 3,
     "metadata": {},
     "output_type": "execute_result"
    }
   ],
   "source": [
    "dataDis = pd.pivot_table(data[ ( data.cond_disPresent == \"present\") & (data[\"Search RT > 200\"] == 1) & (data.correct == 1)],\n",
    "                         values=\"responseTime\", index=\"subject_nr\", columns=\"cond_disLocation\")\n",
    "dataDis.head()"
   ]
  },
  {
   "cell_type": "code",
   "execution_count": 4,
   "metadata": {},
   "outputs": [
    {
     "data": {
      "text/html": [
       "<div>\n",
       "<style scoped>\n",
       "    .dataframe tbody tr th:only-of-type {\n",
       "        vertical-align: middle;\n",
       "    }\n",
       "\n",
       "    .dataframe tbody tr th {\n",
       "        vertical-align: top;\n",
       "    }\n",
       "\n",
       "    .dataframe thead th {\n",
       "        text-align: right;\n",
       "    }\n",
       "</style>\n",
       "<table border=\"1\" class=\"dataframe\">\n",
       "  <thead>\n",
       "    <tr style=\"text-align: right;\">\n",
       "      <th></th>\n",
       "      <th>subject_nr</th>\n",
       "      <th>cond_disLocation</th>\n",
       "      <th>responseTime</th>\n",
       "    </tr>\n",
       "  </thead>\n",
       "  <tbody>\n",
       "    <tr>\n",
       "      <th>0</th>\n",
       "      <td>1</td>\n",
       "      <td>highProb</td>\n",
       "      <td>901.018699</td>\n",
       "    </tr>\n",
       "    <tr>\n",
       "      <th>1</th>\n",
       "      <td>2</td>\n",
       "      <td>highProb</td>\n",
       "      <td>624.201224</td>\n",
       "    </tr>\n",
       "    <tr>\n",
       "      <th>2</th>\n",
       "      <td>3</td>\n",
       "      <td>highProb</td>\n",
       "      <td>611.471170</td>\n",
       "    </tr>\n",
       "    <tr>\n",
       "      <th>3</th>\n",
       "      <td>4</td>\n",
       "      <td>highProb</td>\n",
       "      <td>812.504266</td>\n",
       "    </tr>\n",
       "    <tr>\n",
       "      <th>4</th>\n",
       "      <td>5</td>\n",
       "      <td>highProb</td>\n",
       "      <td>856.474157</td>\n",
       "    </tr>\n",
       "  </tbody>\n",
       "</table>\n",
       "</div>"
      ],
      "text/plain": [
       "   subject_nr cond_disLocation  responseTime\n",
       "0           1         highProb    901.018699\n",
       "1           2         highProb    624.201224\n",
       "2           3         highProb    611.471170\n",
       "3           4         highProb    812.504266\n",
       "4           5         highProb    856.474157"
      ]
     },
     "execution_count": 4,
     "metadata": {},
     "output_type": "execute_result"
    }
   ],
   "source": [
    "dataDis = pd.melt( dataDis.reset_index(),id_vars=\"subject_nr\", var_name=\"cond_disLocation\",\n",
    "                  value_vars=[\"highProb\",\"highProbOther\",\"lowProb\"], value_name=\"responseTime\")\n",
    "dataDis.head()"
   ]
  },
  {
   "cell_type": "code",
   "execution_count": 5,
   "metadata": {},
   "outputs": [
    {
     "data": {
      "text/plain": [
       "array([749.33169959, 759.65216089, 782.21368782])"
      ]
     },
     "execution_count": 5,
     "metadata": {},
     "output_type": "execute_result"
    }
   ],
   "source": [
    "means = dataDis.groupby( [\"cond_disLocation\"])[\"responseTime\"].mean().values\n",
    "means"
   ]
  },
  {
   "cell_type": "markdown",
   "metadata": {},
   "source": [
    "### Plotting"
   ]
  },
  {
   "cell_type": "code",
   "execution_count": 6,
   "metadata": {},
   "outputs": [
    {
     "data": {
      "text/plain": [
       "<matplotlib.axes._subplots.AxesSubplot at 0x113aca5f8>"
      ]
     },
     "execution_count": 6,
     "metadata": {},
     "output_type": "execute_result"
    }
   ],
   "source": [
    "import seaborn as sns\n",
    "sns.violinplot(x=\"cond_disLocation\", y=\"responseTime\", data=dataDis)"
   ]
  },
  {
   "cell_type": "code",
   "execution_count": 7,
   "metadata": {},
   "outputs": [
    {
     "data": {
      "text/html": [
       "<div>\n",
       "<style scoped>\n",
       "    .dataframe tbody tr th:only-of-type {\n",
       "        vertical-align: middle;\n",
       "    }\n",
       "\n",
       "    .dataframe tbody tr th {\n",
       "        vertical-align: top;\n",
       "    }\n",
       "\n",
       "    .dataframe thead tr th {\n",
       "        text-align: left;\n",
       "    }\n",
       "\n",
       "    .dataframe thead tr:last-of-type th {\n",
       "        text-align: right;\n",
       "    }\n",
       "</style>\n",
       "<table border=\"1\" class=\"dataframe\">\n",
       "  <thead>\n",
       "    <tr>\n",
       "      <th>cond_disFeature</th>\n",
       "      <th colspan=\"3\" halign=\"left\">color1</th>\n",
       "      <th colspan=\"3\" halign=\"left\">color2</th>\n",
       "    </tr>\n",
       "    <tr>\n",
       "      <th>cond_disLocation</th>\n",
       "      <th>highProb</th>\n",
       "      <th>highProbOther</th>\n",
       "      <th>lowProb</th>\n",
       "      <th>highProb</th>\n",
       "      <th>highProbOther</th>\n",
       "      <th>lowProb</th>\n",
       "    </tr>\n",
       "    <tr>\n",
       "      <th>subject_nr</th>\n",
       "      <th></th>\n",
       "      <th></th>\n",
       "      <th></th>\n",
       "      <th></th>\n",
       "      <th></th>\n",
       "      <th></th>\n",
       "    </tr>\n",
       "  </thead>\n",
       "  <tbody>\n",
       "    <tr>\n",
       "      <th>1</th>\n",
       "      <td>898.085754</td>\n",
       "      <td>908.953247</td>\n",
       "      <td>911.006782</td>\n",
       "      <td>903.941353</td>\n",
       "      <td>868.417188</td>\n",
       "      <td>909.934529</td>\n",
       "    </tr>\n",
       "    <tr>\n",
       "      <th>2</th>\n",
       "      <td>625.086246</td>\n",
       "      <td>638.712805</td>\n",
       "      <td>690.283450</td>\n",
       "      <td>623.319234</td>\n",
       "      <td>628.130827</td>\n",
       "      <td>660.637482</td>\n",
       "    </tr>\n",
       "    <tr>\n",
       "      <th>3</th>\n",
       "      <td>608.643340</td>\n",
       "      <td>611.815357</td>\n",
       "      <td>636.985070</td>\n",
       "      <td>614.408722</td>\n",
       "      <td>620.225059</td>\n",
       "      <td>622.150507</td>\n",
       "    </tr>\n",
       "    <tr>\n",
       "      <th>4</th>\n",
       "      <td>795.916730</td>\n",
       "      <td>851.552072</td>\n",
       "      <td>851.441743</td>\n",
       "      <td>829.321786</td>\n",
       "      <td>809.150095</td>\n",
       "      <td>830.727984</td>\n",
       "    </tr>\n",
       "    <tr>\n",
       "      <th>5</th>\n",
       "      <td>873.133619</td>\n",
       "      <td>917.033359</td>\n",
       "      <td>912.548993</td>\n",
       "      <td>840.174899</td>\n",
       "      <td>871.532324</td>\n",
       "      <td>867.555131</td>\n",
       "    </tr>\n",
       "  </tbody>\n",
       "</table>\n",
       "</div>"
      ],
      "text/plain": [
       "cond_disFeature       color1                                color2  \\\n",
       "cond_disLocation    highProb highProbOther     lowProb    highProb   \n",
       "subject_nr                                                           \n",
       "1                 898.085754    908.953247  911.006782  903.941353   \n",
       "2                 625.086246    638.712805  690.283450  623.319234   \n",
       "3                 608.643340    611.815357  636.985070  614.408722   \n",
       "4                 795.916730    851.552072  851.441743  829.321786   \n",
       "5                 873.133619    917.033359  912.548993  840.174899   \n",
       "\n",
       "cond_disFeature                             \n",
       "cond_disLocation highProbOther     lowProb  \n",
       "subject_nr                                  \n",
       "1                   868.417188  909.934529  \n",
       "2                   628.130827  660.637482  \n",
       "3                   620.225059  622.150507  \n",
       "4                   809.150095  830.727984  \n",
       "5                   871.532324  867.555131  "
      ]
     },
     "execution_count": 7,
     "metadata": {},
     "output_type": "execute_result"
    }
   ],
   "source": [
    "dataDis = pd.pivot_table(data[ ( data.cond_disPresent == \"present\") & (data[\"Search RT > 200\"] == 1) & (data.correct == 1)],\n",
    "                         values=\"responseTime\", index=\"subject_nr\", columns=[\"cond_disFeature\", \"cond_disLocation\"])\n",
    "dataDis.head()"
   ]
  },
  {
   "cell_type": "code",
   "execution_count": 8,
   "metadata": {},
   "outputs": [
    {
     "data": {
      "text/html": [
       "<div>\n",
       "<style scoped>\n",
       "    .dataframe tbody tr th:only-of-type {\n",
       "        vertical-align: middle;\n",
       "    }\n",
       "\n",
       "    .dataframe tbody tr th {\n",
       "        vertical-align: top;\n",
       "    }\n",
       "\n",
       "    .dataframe thead th {\n",
       "        text-align: right;\n",
       "    }\n",
       "</style>\n",
       "<table border=\"1\" class=\"dataframe\">\n",
       "  <thead>\n",
       "    <tr style=\"text-align: right;\">\n",
       "      <th></th>\n",
       "      <th>cond_disFeature</th>\n",
       "      <th>cond_disLocation</th>\n",
       "      <th>response time</th>\n",
       "    </tr>\n",
       "  </thead>\n",
       "  <tbody>\n",
       "    <tr>\n",
       "      <th>0</th>\n",
       "      <td>color1</td>\n",
       "      <td>highProb</td>\n",
       "      <td>898.085754</td>\n",
       "    </tr>\n",
       "    <tr>\n",
       "      <th>1</th>\n",
       "      <td>color1</td>\n",
       "      <td>highProb</td>\n",
       "      <td>625.086246</td>\n",
       "    </tr>\n",
       "    <tr>\n",
       "      <th>2</th>\n",
       "      <td>color1</td>\n",
       "      <td>highProb</td>\n",
       "      <td>608.643340</td>\n",
       "    </tr>\n",
       "    <tr>\n",
       "      <th>3</th>\n",
       "      <td>color1</td>\n",
       "      <td>highProb</td>\n",
       "      <td>795.916730</td>\n",
       "    </tr>\n",
       "    <tr>\n",
       "      <th>4</th>\n",
       "      <td>color1</td>\n",
       "      <td>highProb</td>\n",
       "      <td>873.133619</td>\n",
       "    </tr>\n",
       "  </tbody>\n",
       "</table>\n",
       "</div>"
      ],
      "text/plain": [
       "  cond_disFeature cond_disLocation  response time\n",
       "0          color1         highProb     898.085754\n",
       "1          color1         highProb     625.086246\n",
       "2          color1         highProb     608.643340\n",
       "3          color1         highProb     795.916730\n",
       "4          color1         highProb     873.133619"
      ]
     },
     "execution_count": 8,
     "metadata": {},
     "output_type": "execute_result"
    }
   ],
   "source": [
    "dataDis = pd.melt(dataDis, value_name=\"response time\")\n",
    "dataDis.head()"
   ]
  },
  {
   "cell_type": "code",
   "execution_count": 9,
   "metadata": {},
   "outputs": [
    {
     "data": {
      "text/plain": [
       "<seaborn.axisgrid.FacetGrid at 0x11d309668>"
      ]
     },
     "execution_count": 9,
     "metadata": {},
     "output_type": "execute_result"
    },
    {
     "data": {
      "image/png": "[encoded data removed]",
      "text/plain": [
       "<Figure size 450.25x360 with 1 Axes>"
      ]
     },
     "metadata": {
      "needs_background": "light"
     },
     "output_type": "display_data"
    }
   ],
   "source": [
    "sns.catplot(x=\"cond_disLocation\", y=\"response time\", hue=\"cond_disFeature\", data=dataDis)"
   ]
  },
  {
   "cell_type": "code",
   "execution_count": 10,
   "metadata": {},
   "outputs": [
    {
     "data": {
      "text/plain": [
       "<matplotlib.axes._subplots.AxesSubplot at 0x11d114978>"
      ]
     },
     "execution_count": 10,
     "metadata": {},
     "output_type": "execute_result"
    },
    {
     "data": {
      "image/png": "[encoded data removed]",
      "text/plain": [
       "<Figure size 432x288 with 1 Axes>"
      ]
     },
     "metadata": {
      "needs_background": "light"
     },
     "output_type": "display_data"
    }
   ],
   "source": [
    "sns.violinplot(x=\"cond_disLocation\", y=\"response time\", hue=\"cond_disFeature\", data=dataDis)"
   ]
  },
  {
   "cell_type": "code",
   "execution_count": 11,
   "metadata": {},
   "outputs": [
    {
     "data": {
      "text/plain": [
       "<seaborn.axisgrid.FacetGrid at 0x11d0d8128>"
      ]
     },
     "execution_count": 11,
     "metadata": {},
     "output_type": "execute_result"
    },
    {
     "data": {
      "image/png": "[encoded data removed]",
      "text/plain": [
       "<Figure size 450.25x360 with 1 Axes>"
      ]
     },
     "metadata": {
      "needs_background": "light"
     },
     "output_type": "display_data"
    }
   ],
   "source": [
    "sns.catplot(x=\"cond_disLocation\", y=\"response time\", hue=\"cond_disFeature\", kind=\"point\",\n",
    "            ci=95, units=\"response time\", data=dataDis)"
   ]
  },
  {
   "cell_type": "markdown",
   "metadata": {},
   "source": [
    "## Plot with custom error bars\n",
    "\n",
    "If we want to use custom error bars in a multiline graph, we need to use a graph where we can access the axes. For a bar graph, we can simply use \n",
    "\n",
    "Option 1: Stylized entire matplotlib graphs into Seaborn\n",
    "\n",
    "Option 2: Create seaborn graph and access the axes"
   ]
  },
  {
   "cell_type": "markdown",
   "metadata": {},
   "source": [
    "#### Option 1"
   ]
  },
  {
   "cell_type": "code",
   "execution_count": 12,
   "metadata": {},
   "outputs": [
    {
     "data": {
      "image/png": "[encoded data removed]",
      "text/plain": [
       "<Figure size 432x288 with 1 Axes>"
      ]
     },
     "metadata": {
      "needs_background": "light"
     },
     "output_type": "display_data"
    },
    {
     "data": {
      "image/png": "[encoded data removed]",
      "text/plain": [
       "<Figure size 432x288 with 4 Axes>"
      ]
     },
     "metadata": {
      "needs_background": "light"
     },
     "output_type": "display_data"
    }
   ],
   "source": [
    "import numpy as np\n",
    "import matplotlib.pyplot as plt\n",
    "\n",
    "# example data\n",
    "x = np.arange(0.1, 4, 0.5)\n",
    "y = np.exp(-x)\n",
    "\n",
    "# example variable error bar values\n",
    "yerr = 0.1 + 0.2*np.sqrt(x)\n",
    "xerr = 0.1 + yerr\n",
    "\n",
    "# First illustrate basic pyplot interface, using defaults where possible.\n",
    "plt.figure()\n",
    "plt.errorbar(x, y, xerr=0.2, yerr=0.4)\n",
    "plt.title(\"Simplest errorbars, 0.2 in x, 0.4 in y\")\n",
    "\n",
    "# Now switch to a more OO interface to exercise more features.\n",
    "fig, axs = plt.subplots(nrows=2, ncols=2, sharex=True)\n",
    "ax = axs[0,0]\n",
    "ax.errorbar(x, y, yerr=yerr, fmt='o')\n",
    "ax.set_title('Vert. symmetric')\n",
    "\n",
    "# With 4 subplots, reduce the number of axis ticks to avoid crowding.\n",
    "ax.locator_params(nbins=4)\n",
    "\n",
    "ax = axs[0,1]\n",
    "ax.errorbar(x, y, xerr=xerr, fmt='o')\n",
    "ax.set_title('Hor. symmetric')\n",
    "\n",
    "ax = axs[1,0]\n",
    "ax.errorbar(x, y, yerr=[yerr, 2*yerr], xerr=[xerr, 2*xerr], fmt='--o')\n",
    "ax.set_title('H, V asymmetric')\n",
    "\n",
    "ax = axs[1,1]\n",
    "ax.set_yscale('log')\n",
    "# Here we have to be careful to keep all y values positive:\n",
    "ylower = np.maximum(1e-2, y - yerr)\n",
    "yerr_lower = y - ylower\n",
    "\n",
    "ax.errorbar(x, y, yerr=[yerr_lower, 2*yerr], xerr=xerr,\n",
    "            fmt='o', ecolor='g', capthick=2)\n",
    "ax.set_title('Mixed sym., log y')\n",
    "\n",
    "fig.suptitle('Variable errorbars')\n",
    "\n",
    "# Got the matplotlib figure ready!\n",
    "# Now, we set the SNS style and make some specific adjustments to the template and plot it\n",
    "sns.set_style('white', {\"axes.spines.right\": False, \"axes.spines.top\": False, \"xtick.bottom\": True, \"ytick.left\": True})\n",
    "plt.show()"
   ]
  },
  {
   "cell_type": "markdown",
   "metadata": {},
   "source": [
    "#### Option 2"
   ]
  },
  {
   "cell_type": "code",
   "execution_count": 13,
   "metadata": {},
   "outputs": [
    {
     "name": "stdout",
     "output_type": "stream",
     "text": [
      "cond_disLocation  cond_disFeature\n",
      "highProb          color1             107.125460\n",
      "                  color2             108.741712\n",
      "highProbOther     color1             113.955457\n",
      "                  color2             106.494523\n",
      "lowProb           color1             113.094406\n",
      "                  color2             108.593162\n",
      "Name: response time, dtype: float64\n",
      "[6.293409172, 12.86350914, 9.765396862, 6.605023755, 11.52660614, 7.020881214]\n"
     ]
    },
    {
     "data": {
      "text/plain": [
       "<ErrorbarContainer object of 3 artists>"
      ]
     },
     "execution_count": 13,
     "metadata": {},
     "output_type": "execute_result"
    },
    {
     "data": {
      "image/png": "[encoded data removed]",
      "text/plain": [
       "<Figure size 432x288 with 1 Axes>"
      ]
     },
     "metadata": {},
     "output_type": "display_data"
    }
   ],
   "source": [
    "ax = sns.pointplot(x=\"cond_disLocation\", y=\"response time\", hue=\"cond_disFeature\", markers=[\"o\", \"x\"], linestyles=[\"-\", \"--\"],\n",
    "                   ci=None, units=\"response time\", scale=1.25, dodge=True, join=True, data=dataDis)\n",
    "\n",
    "# Find the x,y coordinates for each point\n",
    "x_coords, y_coords = [],[]\n",
    "for point_pair in ax.collections:\n",
    "    for x, y in point_pair.get_offsets():\n",
    "        x_coords.append(x)\n",
    "        y_coords.append(y)\n",
    "        \n",
    "# Calculate the type of error to plot as the error bars\n",
    "# Make sure the order is the same as the point we're looping over\n",
    "# Fancy\n",
    "errors = dataDis.groupby(['cond_disLocation','cond_disFeature']).std()['response time']\n",
    "print(errors)\n",
    "# Plain\n",
    "errorBars = [6.293409172,12.86350914,9.765396862,6.605023755,11.52660614,7.020881214]\n",
    "print(errorBars)\n",
    "colors = ['steelblue']*3 + ['coral']*3\n",
    "ax.errorbar(x_coords, y_coords, yerr=errorBars, ecolor=colors, fmt=' ', zorder=-1, elinewidth=1.5)"
   ]
  },
  {
   "cell_type": "markdown",
   "metadata": {},
   "source": [
    "## Plotting with aggregated data set"
   ]
  },
  {
   "cell_type": "code",
   "execution_count": 14,
   "metadata": {},
   "outputs": [
    {
     "name": "stdout",
     "output_type": "stream",
     "text": [
      "/Users/michlf/Dropbox/Work/Data/behavioral/attention/StatisticalRegularities/locations/Salience/Exp2/beh\n"
     ]
    }
   ],
   "source": [
    "try:\n",
    "    os.chdir(r'F:\\Dropbox\\Work\\Data\\behavioral\\attention\\StatisticalRegularities\\locations\\Salience\\Exp2\\beh')\n",
    "except:\n",
    "    os.chdir('/Users/michlf/Dropbox/Work/Data/behavioral/attention/StatisticalRegularities/locations/Salience/Exp2/beh')\n",
    "print(os.getcwd())"
   ]
  },
  {
   "cell_type": "code",
   "execution_count": 15,
   "metadata": {},
   "outputs": [
    {
     "data": {
      "text/html": [
       "<div>\n",
       "<style scoped>\n",
       "    .dataframe tbody tr th:only-of-type {\n",
       "        vertical-align: middle;\n",
       "    }\n",
       "\n",
       "    .dataframe tbody tr th {\n",
       "        vertical-align: top;\n",
       "    }\n",
       "\n",
       "    .dataframe thead th {\n",
       "        text-align: right;\n",
       "    }\n",
       "</style>\n",
       "<table border=\"1\" class=\"dataframe\">\n",
       "  <thead>\n",
       "    <tr style=\"text-align: right;\">\n",
       "      <th></th>\n",
       "      <th>absent-HL</th>\n",
       "      <th>absent-LL</th>\n",
       "      <th>present-HL</th>\n",
       "      <th>present-LL</th>\n",
       "      <th>absent</th>\n",
       "      <th>cap-diff-HL</th>\n",
       "      <th>cap-diff-LL</th>\n",
       "      <th>AnyOnHighP-HL</th>\n",
       "      <th>AnyOnHighP-LL</th>\n",
       "      <th>AnyOnlowP</th>\n",
       "      <th>...</th>\n",
       "      <th>awareness</th>\n",
       "      <th>awareness_actual</th>\n",
       "      <th>highP-HL-swap</th>\n",
       "      <th>highPOther-HL-swap</th>\n",
       "      <th>lowP-HL-swap</th>\n",
       "      <th>highP-LL-swap</th>\n",
       "      <th>highPOther-LL-swap</th>\n",
       "      <th>lowP-LL-swap</th>\n",
       "      <th>swap</th>\n",
       "      <th>same</th>\n",
       "    </tr>\n",
       "  </thead>\n",
       "  <tbody>\n",
       "    <tr>\n",
       "      <th>0</th>\n",
       "      <td>710.340425</td>\n",
       "      <td>705.029586</td>\n",
       "      <td>724.196545</td>\n",
       "      <td>734.735269</td>\n",
       "      <td>707.685006</td>\n",
       "      <td>-13.856120</td>\n",
       "      <td>-29.705683</td>\n",
       "      <td>712.456853</td>\n",
       "      <td>731.223281</td>\n",
       "      <td>744.644495</td>\n",
       "      <td>...</td>\n",
       "      <td>1</td>\n",
       "      <td>0</td>\n",
       "      <td>719.576828</td>\n",
       "      <td>733.015826</td>\n",
       "      <td>752.560298</td>\n",
       "      <td>742.878974</td>\n",
       "      <td>709.128014</td>\n",
       "      <td>740.122349</td>\n",
       "      <td>716.287372</td>\n",
       "      <td>737.317706</td>\n",
       "    </tr>\n",
       "    <tr>\n",
       "      <th>1</th>\n",
       "      <td>768.462447</td>\n",
       "      <td>739.894998</td>\n",
       "      <td>775.344163</td>\n",
       "      <td>762.414334</td>\n",
       "      <td>754.178723</td>\n",
       "      <td>-6.881716</td>\n",
       "      <td>-22.519336</td>\n",
       "      <td>732.254049</td>\n",
       "      <td>781.080696</td>\n",
       "      <td>792.176752</td>\n",
       "      <td>...</td>\n",
       "      <td>0</td>\n",
       "      <td>0</td>\n",
       "      <td>751.210447</td>\n",
       "      <td>789.631005</td>\n",
       "      <td>815.058499</td>\n",
       "      <td>765.071134</td>\n",
       "      <td>704.961505</td>\n",
       "      <td>768.562417</td>\n",
       "      <td>762.104345</td>\n",
       "      <td>772.841742</td>\n",
       "    </tr>\n",
       "    <tr>\n",
       "      <th>2</th>\n",
       "      <td>877.995182</td>\n",
       "      <td>866.908612</td>\n",
       "      <td>906.895059</td>\n",
       "      <td>892.869786</td>\n",
       "      <td>872.451897</td>\n",
       "      <td>-28.899877</td>\n",
       "      <td>-25.961175</td>\n",
       "      <td>888.201191</td>\n",
       "      <td>933.030547</td>\n",
       "      <td>908.750504</td>\n",
       "      <td>...</td>\n",
       "      <td>0</td>\n",
       "      <td>0</td>\n",
       "      <td>908.451846</td>\n",
       "      <td>964.450094</td>\n",
       "      <td>930.948941</td>\n",
       "      <td>897.932836</td>\n",
       "      <td>887.436658</td>\n",
       "      <td>885.624043</td>\n",
       "      <td>886.956639</td>\n",
       "      <td>907.022899</td>\n",
       "    </tr>\n",
       "    <tr>\n",
       "      <th>3</th>\n",
       "      <td>673.481966</td>\n",
       "      <td>653.207960</td>\n",
       "      <td>706.175530</td>\n",
       "      <td>676.801056</td>\n",
       "      <td>663.344963</td>\n",
       "      <td>-32.693564</td>\n",
       "      <td>-23.593095</td>\n",
       "      <td>686.018181</td>\n",
       "      <td>698.781434</td>\n",
       "      <td>704.592803</td>\n",
       "      <td>...</td>\n",
       "      <td>0</td>\n",
       "      <td>0</td>\n",
       "      <td>704.621712</td>\n",
       "      <td>730.526062</td>\n",
       "      <td>724.007122</td>\n",
       "      <td>680.997978</td>\n",
       "      <td>674.837991</td>\n",
       "      <td>688.959952</td>\n",
       "      <td>677.884373</td>\n",
       "      <td>699.622521</td>\n",
       "    </tr>\n",
       "    <tr>\n",
       "      <th>4</th>\n",
       "      <td>837.627827</td>\n",
       "      <td>847.407618</td>\n",
       "      <td>885.832759</td>\n",
       "      <td>868.607076</td>\n",
       "      <td>842.517722</td>\n",
       "      <td>-48.204932</td>\n",
       "      <td>-21.199458</td>\n",
       "      <td>867.819508</td>\n",
       "      <td>878.555456</td>\n",
       "      <td>909.291290</td>\n",
       "      <td>...</td>\n",
       "      <td>0</td>\n",
       "      <td>0</td>\n",
       "      <td>867.158519</td>\n",
       "      <td>890.586997</td>\n",
       "      <td>940.407051</td>\n",
       "      <td>864.900190</td>\n",
       "      <td>874.618902</td>\n",
       "      <td>882.905466</td>\n",
       "      <td>860.007241</td>\n",
       "      <td>887.656504</td>\n",
       "    </tr>\n",
       "  </tbody>\n",
       "</table>\n",
       "<p>5 rows × 39 columns</p>\n",
       "</div>"
      ],
      "text/plain": [
       "    absent-HL   absent-LL  present-HL  present-LL      absent  cap-diff-HL  \\\n",
       "0  710.340425  705.029586  724.196545  734.735269  707.685006   -13.856120   \n",
       "1  768.462447  739.894998  775.344163  762.414334  754.178723    -6.881716   \n",
       "2  877.995182  866.908612  906.895059  892.869786  872.451897   -28.899877   \n",
       "3  673.481966  653.207960  706.175530  676.801056  663.344963   -32.693564   \n",
       "4  837.627827  847.407618  885.832759  868.607076  842.517722   -48.204932   \n",
       "\n",
       "   cap-diff-LL  AnyOnHighP-HL  AnyOnHighP-LL   AnyOnlowP  ...  awareness  \\\n",
       "0   -29.705683     712.456853     731.223281  744.644495  ...          1   \n",
       "1   -22.519336     732.254049     781.080696  792.176752  ...          0   \n",
       "2   -25.961175     888.201191     933.030547  908.750504  ...          0   \n",
       "3   -23.593095     686.018181     698.781434  704.592803  ...          0   \n",
       "4   -21.199458     867.819508     878.555456  909.291290  ...          0   \n",
       "\n",
       "   awareness_actual  highP-HL-swap  highPOther-HL-swap  lowP-HL-swap  \\\n",
       "0                 0     719.576828          733.015826    752.560298   \n",
       "1                 0     751.210447          789.631005    815.058499   \n",
       "2                 0     908.451846          964.450094    930.948941   \n",
       "3                 0     704.621712          730.526062    724.007122   \n",
       "4                 0     867.158519          890.586997    940.407051   \n",
       "\n",
       "   highP-LL-swap  highPOther-LL-swap  lowP-LL-swap        swap        same  \n",
       "0     742.878974          709.128014    740.122349  716.287372  737.317706  \n",
       "1     765.071134          704.961505    768.562417  762.104345  772.841742  \n",
       "2     897.932836          887.436658    885.624043  886.956639  907.022899  \n",
       "3     680.997978          674.837991    688.959952  677.884373  699.622521  \n",
       "4     864.900190          874.618902    882.905466  860.007241  887.656504  \n",
       "\n",
       "[5 rows x 39 columns]"
      ]
     },
     "execution_count": 15,
     "metadata": {},
     "output_type": "execute_result"
    }
   ],
   "source": [
    "import pandas as pd\n",
    "data2=pd.read_csv(\"EXP2_JASP_RT.csv\", sep=';', decimal=',')\n",
    "data2.head()"
   ]
  },
  {
   "cell_type": "code",
   "execution_count": 16,
   "metadata": {},
   "outputs": [
    {
     "data": {
      "text/html": [
       "<div>\n",
       "<style scoped>\n",
       "    .dataframe tbody tr th:only-of-type {\n",
       "        vertical-align: middle;\n",
       "    }\n",
       "\n",
       "    .dataframe tbody tr th {\n",
       "        vertical-align: top;\n",
       "    }\n",
       "\n",
       "    .dataframe thead th {\n",
       "        text-align: right;\n",
       "    }\n",
       "</style>\n",
       "<table border=\"1\" class=\"dataframe\">\n",
       "  <thead>\n",
       "    <tr style=\"text-align: right;\">\n",
       "      <th></th>\n",
       "      <th>absent-HL</th>\n",
       "      <th>absent-LL</th>\n",
       "      <th>present-HL</th>\n",
       "      <th>present-LL</th>\n",
       "    </tr>\n",
       "  </thead>\n",
       "  <tbody>\n",
       "    <tr>\n",
       "      <th>0</th>\n",
       "      <td>710.340425</td>\n",
       "      <td>705.029586</td>\n",
       "      <td>724.196545</td>\n",
       "      <td>734.735269</td>\n",
       "    </tr>\n",
       "    <tr>\n",
       "      <th>1</th>\n",
       "      <td>768.462447</td>\n",
       "      <td>739.894998</td>\n",
       "      <td>775.344163</td>\n",
       "      <td>762.414334</td>\n",
       "    </tr>\n",
       "    <tr>\n",
       "      <th>2</th>\n",
       "      <td>877.995182</td>\n",
       "      <td>866.908612</td>\n",
       "      <td>906.895059</td>\n",
       "      <td>892.869786</td>\n",
       "    </tr>\n",
       "    <tr>\n",
       "      <th>3</th>\n",
       "      <td>673.481966</td>\n",
       "      <td>653.207960</td>\n",
       "      <td>706.175530</td>\n",
       "      <td>676.801056</td>\n",
       "    </tr>\n",
       "    <tr>\n",
       "      <th>4</th>\n",
       "      <td>837.627827</td>\n",
       "      <td>847.407618</td>\n",
       "      <td>885.832759</td>\n",
       "      <td>868.607076</td>\n",
       "    </tr>\n",
       "  </tbody>\n",
       "</table>\n",
       "</div>"
      ],
      "text/plain": [
       "    absent-HL   absent-LL  present-HL  present-LL\n",
       "0  710.340425  705.029586  724.196545  734.735269\n",
       "1  768.462447  739.894998  775.344163  762.414334\n",
       "2  877.995182  866.908612  906.895059  892.869786\n",
       "3  673.481966  653.207960  706.175530  676.801056\n",
       "4  837.627827  847.407618  885.832759  868.607076"
      ]
     },
     "execution_count": 16,
     "metadata": {},
     "output_type": "execute_result"
    }
   ],
   "source": [
    "# Select only relevant data for the analysis\n",
    "df1 = data2[['absent-HL','absent-LL','present-HL','present-LL']]\n",
    "df1.head()"
   ]
  },
  {
   "cell_type": "code",
   "execution_count": 17,
   "metadata": {},
   "outputs": [
    {
     "data": {
      "text/html": [
       "<div>\n",
       "<style scoped>\n",
       "    .dataframe tbody tr th:only-of-type {\n",
       "        vertical-align: middle;\n",
       "    }\n",
       "\n",
       "    .dataframe tbody tr th {\n",
       "        vertical-align: top;\n",
       "    }\n",
       "\n",
       "    .dataframe thead th {\n",
       "        text-align: right;\n",
       "    }\n",
       "</style>\n",
       "<table border=\"1\" class=\"dataframe\">\n",
       "  <thead>\n",
       "    <tr style=\"text-align: right;\">\n",
       "      <th></th>\n",
       "      <th>index</th>\n",
       "      <th>variable</th>\n",
       "      <th>value</th>\n",
       "    </tr>\n",
       "  </thead>\n",
       "  <tbody>\n",
       "    <tr>\n",
       "      <th>91</th>\n",
       "      <td>19</td>\n",
       "      <td>present-LL</td>\n",
       "      <td>917.687918</td>\n",
       "    </tr>\n",
       "    <tr>\n",
       "      <th>92</th>\n",
       "      <td>20</td>\n",
       "      <td>present-LL</td>\n",
       "      <td>878.630515</td>\n",
       "    </tr>\n",
       "    <tr>\n",
       "      <th>93</th>\n",
       "      <td>21</td>\n",
       "      <td>present-LL</td>\n",
       "      <td>802.525647</td>\n",
       "    </tr>\n",
       "    <tr>\n",
       "      <th>94</th>\n",
       "      <td>22</td>\n",
       "      <td>present-LL</td>\n",
       "      <td>957.115483</td>\n",
       "    </tr>\n",
       "    <tr>\n",
       "      <th>95</th>\n",
       "      <td>23</td>\n",
       "      <td>present-LL</td>\n",
       "      <td>965.541091</td>\n",
       "    </tr>\n",
       "  </tbody>\n",
       "</table>\n",
       "</div>"
      ],
      "text/plain": [
       "    index    variable       value\n",
       "91     19  present-LL  917.687918\n",
       "92     20  present-LL  878.630515\n",
       "93     21  present-LL  802.525647\n",
       "94     22  present-LL  957.115483\n",
       "95     23  present-LL  965.541091"
      ]
     },
     "execution_count": 17,
     "metadata": {},
     "output_type": "execute_result"
    }
   ],
   "source": [
    "df1 = df1.reset_index().melt(id_vars='index')\n",
    "df1.tail()"
   ]
  },
  {
   "cell_type": "code",
   "execution_count": 18,
   "metadata": {},
   "outputs": [
    {
     "data": {
      "text/html": [
       "<div>\n",
       "<style scoped>\n",
       "    .dataframe tbody tr th:only-of-type {\n",
       "        vertical-align: middle;\n",
       "    }\n",
       "\n",
       "    .dataframe tbody tr th {\n",
       "        vertical-align: top;\n",
       "    }\n",
       "\n",
       "    .dataframe thead th {\n",
       "        text-align: right;\n",
       "    }\n",
       "</style>\n",
       "<table border=\"1\" class=\"dataframe\">\n",
       "  <thead>\n",
       "    <tr style=\"text-align: right;\">\n",
       "      <th></th>\n",
       "      <th>subject number</th>\n",
       "      <th>condition</th>\n",
       "      <th>response time</th>\n",
       "    </tr>\n",
       "  </thead>\n",
       "  <tbody>\n",
       "    <tr>\n",
       "      <th>0</th>\n",
       "      <td>1</td>\n",
       "      <td>absent-HL</td>\n",
       "      <td>710.340425</td>\n",
       "    </tr>\n",
       "    <tr>\n",
       "      <th>1</th>\n",
       "      <td>2</td>\n",
       "      <td>absent-HL</td>\n",
       "      <td>768.462447</td>\n",
       "    </tr>\n",
       "    <tr>\n",
       "      <th>2</th>\n",
       "      <td>3</td>\n",
       "      <td>absent-HL</td>\n",
       "      <td>877.995182</td>\n",
       "    </tr>\n",
       "    <tr>\n",
       "      <th>3</th>\n",
       "      <td>4</td>\n",
       "      <td>absent-HL</td>\n",
       "      <td>673.481966</td>\n",
       "    </tr>\n",
       "    <tr>\n",
       "      <th>4</th>\n",
       "      <td>5</td>\n",
       "      <td>absent-HL</td>\n",
       "      <td>837.627827</td>\n",
       "    </tr>\n",
       "  </tbody>\n",
       "</table>\n",
       "</div>"
      ],
      "text/plain": [
       "   subject number  condition  response time\n",
       "0               1  absent-HL     710.340425\n",
       "1               2  absent-HL     768.462447\n",
       "2               3  absent-HL     877.995182\n",
       "3               4  absent-HL     673.481966\n",
       "4               5  absent-HL     837.627827"
      ]
     },
     "execution_count": 18,
     "metadata": {},
     "output_type": "execute_result"
    }
   ],
   "source": [
    "df1.columns = ['subject number', 'condition', 'response time']\n",
    "df1['subject number'] += 1\n",
    "df1.head()"
   ]
  },
  {
   "cell_type": "code",
   "execution_count": 19,
   "metadata": {},
   "outputs": [
    {
     "data": {
      "image/png": "[encoded data removed]",
      "text/plain": [
       "<Figure size 432x288 with 1 Axes>"
      ]
     },
     "metadata": {},
     "output_type": "display_data"
    }
   ],
   "source": [
    "import seaborn as sns\n",
    "ax = sns.violinplot(x=\"condition\", y=\"response time\", data=df1)"
   ]
  },
  {
   "cell_type": "code",
   "execution_count": 20,
   "metadata": {},
   "outputs": [
    {
     "data": {
      "text/html": [
       "<div>\n",
       "<style scoped>\n",
       "    .dataframe tbody tr th:only-of-type {\n",
       "        vertical-align: middle;\n",
       "    }\n",
       "\n",
       "    .dataframe tbody tr th {\n",
       "        vertical-align: top;\n",
       "    }\n",
       "\n",
       "    .dataframe thead th {\n",
       "        text-align: right;\n",
       "    }\n",
       "</style>\n",
       "<table border=\"1\" class=\"dataframe\">\n",
       "  <thead>\n",
       "    <tr style=\"text-align: right;\">\n",
       "      <th></th>\n",
       "      <th>subject number</th>\n",
       "      <th>condition</th>\n",
       "      <th>response time</th>\n",
       "    </tr>\n",
       "  </thead>\n",
       "  <tbody>\n",
       "    <tr>\n",
       "      <th>0</th>\n",
       "      <td>1</td>\n",
       "      <td>absent-HL</td>\n",
       "      <td>710.340425</td>\n",
       "    </tr>\n",
       "    <tr>\n",
       "      <th>1</th>\n",
       "      <td>2</td>\n",
       "      <td>absent-HL</td>\n",
       "      <td>768.462447</td>\n",
       "    </tr>\n",
       "    <tr>\n",
       "      <th>2</th>\n",
       "      <td>3</td>\n",
       "      <td>absent-HL</td>\n",
       "      <td>877.995182</td>\n",
       "    </tr>\n",
       "    <tr>\n",
       "      <th>3</th>\n",
       "      <td>4</td>\n",
       "      <td>absent-HL</td>\n",
       "      <td>673.481966</td>\n",
       "    </tr>\n",
       "    <tr>\n",
       "      <th>4</th>\n",
       "      <td>5</td>\n",
       "      <td>absent-HL</td>\n",
       "      <td>837.627827</td>\n",
       "    </tr>\n",
       "  </tbody>\n",
       "</table>\n",
       "</div>"
      ],
      "text/plain": [
       "   subject number  condition  response time\n",
       "0               1  absent-HL     710.340425\n",
       "1               2  absent-HL     768.462447\n",
       "2               3  absent-HL     877.995182\n",
       "3               4  absent-HL     673.481966\n",
       "4               5  absent-HL     837.627827"
      ]
     },
     "execution_count": 20,
     "metadata": {},
     "output_type": "execute_result"
    }
   ],
   "source": [
    "df2 = df1[:]\n",
    "df2.head()"
   ]
  },
  {
   "cell_type": "code",
   "execution_count": 21,
   "metadata": {},
   "outputs": [
    {
     "data": {
      "text/html": [
       "<div>\n",
       "<style scoped>\n",
       "    .dataframe tbody tr th:only-of-type {\n",
       "        vertical-align: middle;\n",
       "    }\n",
       "\n",
       "    .dataframe tbody tr th {\n",
       "        vertical-align: top;\n",
       "    }\n",
       "\n",
       "    .dataframe thead th {\n",
       "        text-align: right;\n",
       "    }\n",
       "</style>\n",
       "<table border=\"1\" class=\"dataframe\">\n",
       "  <thead>\n",
       "    <tr style=\"text-align: right;\">\n",
       "      <th></th>\n",
       "      <th>subject number</th>\n",
       "      <th>condition</th>\n",
       "      <th>response time</th>\n",
       "      <th>distractor presence</th>\n",
       "      <th>probability condition</th>\n",
       "    </tr>\n",
       "  </thead>\n",
       "  <tbody>\n",
       "    <tr>\n",
       "      <th>0</th>\n",
       "      <td>1</td>\n",
       "      <td>absent-HL</td>\n",
       "      <td>710.340425</td>\n",
       "      <td>absent</td>\n",
       "      <td>HL</td>\n",
       "    </tr>\n",
       "    <tr>\n",
       "      <th>1</th>\n",
       "      <td>2</td>\n",
       "      <td>absent-HL</td>\n",
       "      <td>768.462447</td>\n",
       "      <td>absent</td>\n",
       "      <td>HL</td>\n",
       "    </tr>\n",
       "    <tr>\n",
       "      <th>2</th>\n",
       "      <td>3</td>\n",
       "      <td>absent-HL</td>\n",
       "      <td>877.995182</td>\n",
       "      <td>absent</td>\n",
       "      <td>HL</td>\n",
       "    </tr>\n",
       "    <tr>\n",
       "      <th>3</th>\n",
       "      <td>4</td>\n",
       "      <td>absent-HL</td>\n",
       "      <td>673.481966</td>\n",
       "      <td>absent</td>\n",
       "      <td>HL</td>\n",
       "    </tr>\n",
       "    <tr>\n",
       "      <th>4</th>\n",
       "      <td>5</td>\n",
       "      <td>absent-HL</td>\n",
       "      <td>837.627827</td>\n",
       "      <td>absent</td>\n",
       "      <td>HL</td>\n",
       "    </tr>\n",
       "  </tbody>\n",
       "</table>\n",
       "</div>"
      ],
      "text/plain": [
       "   subject number  condition  response time distractor presence  \\\n",
       "0               1  absent-HL     710.340425              absent   \n",
       "1               2  absent-HL     768.462447              absent   \n",
       "2               3  absent-HL     877.995182              absent   \n",
       "3               4  absent-HL     673.481966              absent   \n",
       "4               5  absent-HL     837.627827              absent   \n",
       "\n",
       "  probability condition  \n",
       "0                    HL  \n",
       "1                    HL  \n",
       "2                    HL  \n",
       "3                    HL  \n",
       "4                    HL  "
      ]
     },
     "execution_count": 21,
     "metadata": {},
     "output_type": "execute_result"
    }
   ],
   "source": [
    "df2['distractor presence'], df2['probability condition'] = df2['condition'].str.split('-', 1).str\n",
    "df2.head()"
   ]
  },
  {
   "cell_type": "code",
   "execution_count": 22,
   "metadata": {},
   "outputs": [
    {
     "data": {
      "text/html": [
       "<div>\n",
       "<style scoped>\n",
       "    .dataframe tbody tr th:only-of-type {\n",
       "        vertical-align: middle;\n",
       "    }\n",
       "\n",
       "    .dataframe tbody tr th {\n",
       "        vertical-align: top;\n",
       "    }\n",
       "\n",
       "    .dataframe thead th {\n",
       "        text-align: right;\n",
       "    }\n",
       "</style>\n",
       "<table border=\"1\" class=\"dataframe\">\n",
       "  <thead>\n",
       "    <tr style=\"text-align: right;\">\n",
       "      <th></th>\n",
       "      <th>response time</th>\n",
       "      <th>distractor presence</th>\n",
       "      <th>probability condition</th>\n",
       "    </tr>\n",
       "  </thead>\n",
       "  <tbody>\n",
       "    <tr>\n",
       "      <th>91</th>\n",
       "      <td>917.687918</td>\n",
       "      <td>present</td>\n",
       "      <td>low probability</td>\n",
       "    </tr>\n",
       "    <tr>\n",
       "      <th>92</th>\n",
       "      <td>878.630515</td>\n",
       "      <td>present</td>\n",
       "      <td>low probability</td>\n",
       "    </tr>\n",
       "    <tr>\n",
       "      <th>93</th>\n",
       "      <td>802.525647</td>\n",
       "      <td>present</td>\n",
       "      <td>low probability</td>\n",
       "    </tr>\n",
       "    <tr>\n",
       "      <th>94</th>\n",
       "      <td>957.115483</td>\n",
       "      <td>present</td>\n",
       "      <td>low probability</td>\n",
       "    </tr>\n",
       "    <tr>\n",
       "      <th>95</th>\n",
       "      <td>965.541091</td>\n",
       "      <td>present</td>\n",
       "      <td>low probability</td>\n",
       "    </tr>\n",
       "  </tbody>\n",
       "</table>\n",
       "</div>"
      ],
      "text/plain": [
       "    response time distractor presence probability condition\n",
       "91     917.687918             present       low probability\n",
       "92     878.630515             present       low probability\n",
       "93     802.525647             present       low probability\n",
       "94     957.115483             present       low probability\n",
       "95     965.541091             present       low probability"
      ]
     },
     "execution_count": 22,
     "metadata": {},
     "output_type": "execute_result"
    }
   ],
   "source": [
    "df2 = df2.drop(['condition', 'subject number'],axis=1)\n",
    "df2['probability condition'] = df2['probability condition'].replace({'LL':'low probability', 'HL':'high probability'})\n",
    "df2.tail()"
   ]
  },
  {
   "cell_type": "code",
   "execution_count": 23,
   "metadata": {},
   "outputs": [
    {
     "data": {
      "text/plain": [
       "'/Users/michlf/Dropbox/Work/Data/behavioral/attention/StatisticalRegularities/locations/Salience/Exp2/beh'"
      ]
     },
     "execution_count": 23,
     "metadata": {},
     "output_type": "execute_result"
    }
   ],
   "source": [
    "os.getcwd()"
   ]
  },
  {
   "cell_type": "code",
   "execution_count": 24,
   "metadata": {},
   "outputs": [
    {
     "data": {
      "image/png": "[encoded data removed]",
      "text/plain": [
       "<Figure size 463.375x360 with 1 Axes>"
      ]
     },
     "metadata": {},
     "output_type": "display_data"
    }
   ],
   "source": [
    "plot1 = sns.catplot(x='distractor presence', y='response time', hue='probability condition', data=df2, kind='point', ci=95, units='response time')\n",
    "plot1.savefig(\"plot1.svg\", format=\"svg\", dpi=1200) # can do .png, .pdf, .ps, .eps or .svg"
   ]
  },
  {
   "cell_type": "code",
   "execution_count": 25,
   "metadata": {},
   "outputs": [
    {
     "data": {
      "image/png": "[encoded data removed]",
      "text/plain": [
       "<Figure size 463.375x360 with 1 Axes>"
      ]
     },
     "metadata": {},
     "output_type": "display_data"
    }
   ],
   "source": [
    "import matplotlib.pyplot as plt\n",
    "sns.catplot(x='distractor presence', y='response time', hue='probability condition', data=df2, kind='point', ci=95, units='response time')\n",
    "plt.savefig(\"plot2.pdf\", format=\"pdf\", dpi=1200)"
   ]
  },
  {
   "cell_type": "code",
   "execution_count": 26,
   "metadata": {},
   "outputs": [
    {
     "data": {
      "text/html": [
       "<div>\n",
       "<style scoped>\n",
       "    .dataframe tbody tr th:only-of-type {\n",
       "        vertical-align: middle;\n",
       "    }\n",
       "\n",
       "    .dataframe tbody tr th {\n",
       "        vertical-align: top;\n",
       "    }\n",
       "\n",
       "    .dataframe thead th {\n",
       "        text-align: right;\n",
       "    }\n",
       "</style>\n",
       "<table border=\"1\" class=\"dataframe\">\n",
       "  <thead>\n",
       "    <tr style=\"text-align: right;\">\n",
       "      <th></th>\n",
       "      <th>response time</th>\n",
       "      <th>distractor presence</th>\n",
       "      <th>probability condition</th>\n",
       "    </tr>\n",
       "  </thead>\n",
       "  <tbody>\n",
       "    <tr>\n",
       "      <th>0</th>\n",
       "      <td>710.340425</td>\n",
       "      <td>absent</td>\n",
       "      <td>high probability</td>\n",
       "    </tr>\n",
       "    <tr>\n",
       "      <th>1</th>\n",
       "      <td>768.462447</td>\n",
       "      <td>absent</td>\n",
       "      <td>high probability</td>\n",
       "    </tr>\n",
       "    <tr>\n",
       "      <th>2</th>\n",
       "      <td>877.995182</td>\n",
       "      <td>absent</td>\n",
       "      <td>high probability</td>\n",
       "    </tr>\n",
       "    <tr>\n",
       "      <th>3</th>\n",
       "      <td>673.481966</td>\n",
       "      <td>absent</td>\n",
       "      <td>high probability</td>\n",
       "    </tr>\n",
       "    <tr>\n",
       "      <th>4</th>\n",
       "      <td>837.627827</td>\n",
       "      <td>absent</td>\n",
       "      <td>high probability</td>\n",
       "    </tr>\n",
       "  </tbody>\n",
       "</table>\n",
       "</div>"
      ],
      "text/plain": [
       "   response time distractor presence probability condition\n",
       "0     710.340425              absent      high probability\n",
       "1     768.462447              absent      high probability\n",
       "2     877.995182              absent      high probability\n",
       "3     673.481966              absent      high probability\n",
       "4     837.627827              absent      high probability"
      ]
     },
     "execution_count": 26,
     "metadata": {},
     "output_type": "execute_result"
    }
   ],
   "source": [
    "df2.head()"
   ]
  },
  {
   "cell_type": "markdown",
   "metadata": {},
   "source": [
    "## Plot custom errorbars using Cousineau/Morey"
   ]
  },
  {
   "cell_type": "code",
   "execution_count": 27,
   "metadata": {},
   "outputs": [],
   "source": [
    "# Can also find this function as withinCI.py in misc->statsFunctions on Github\n",
    "from scipy.stats import t\n",
    "from math import sqrt\n",
    "def confidence_int(data, p_value = 0.05, morey = True):\n",
    "    \"\"\"\n",
    "    \n",
    "    \"\"\"\n",
    "    \n",
    "    # normalize the data by subtracting the participants mean performance from each observation, and then add the grand mean to each observation\n",
    "    ind_mean = data.mean(axis = 1).reshape(data.shape[0],1)\n",
    "    grand_mean = data.mean(axis = 1).mean()\n",
    "    data = data - ind_mean + grand_mean\n",
    "    \n",
    "    t_value = abs(t.ppf([p_value], data.shape[0]-1)[0])\n",
    "    \n",
    "    # calculate standard 95% CI\n",
    "    CI = data.std(axis = 0)/sqrt(data.shape[0])*t_value\n",
    "    \n",
    "    # correct CI according confidence_into Morey 2008\n",
    "    if morey:\n",
    "        CI = CI*(data.shape[1]/float((data.shape[1] - 1))) \n",
    "    \n",
    "    return CI "
   ]
  },
  {
   "cell_type": "code",
   "execution_count": 28,
   "metadata": {},
   "outputs": [
    {
     "data": {
      "text/plain": [
       "array([[ 901.01869926,  887.54656381,  910.46963828],\n",
       "       [ 624.20122444,  633.48263208,  675.43179486],\n",
       "       [ 611.47116969,  615.97400065,  629.63710866],\n",
       "       [ 812.50426599,  830.11810541,  841.10429461],\n",
       "       [ 856.47415674,  893.74116251,  890.14351285],\n",
       "       [ 699.31942442,  715.88764661,  725.24226158],\n",
       "       [ 695.80978645,  676.64229311,  716.68731004],\n",
       "       [ 811.46318486,  839.85268057,  853.00393356],\n",
       "       [ 751.72170848,  799.02449846,  771.02981565],\n",
       "       [ 952.1114503 ,  937.40201898, 1001.93912307],\n",
       "       [ 944.72781912,  966.26797684,  986.23828825],\n",
       "       [ 783.00821108,  846.60417011,  818.910011  ],\n",
       "       [ 804.81509374,  810.86199534,  812.30141922],\n",
       "       [ 646.31146145,  658.50246181,  671.74891762],\n",
       "       [ 816.78214602,  833.26940682,  867.24045328],\n",
       "       [ 587.46160662,  589.8191309 ,  634.82449289],\n",
       "       [ 630.21767069,  632.37961347,  650.20534911],\n",
       "       [ 728.4080722 ,  744.55147547,  804.04887428],\n",
       "       [ 654.8554833 ,  692.450883  ,  687.14887668],\n",
       "       [ 785.14539238,  765.94345065,  818.21333314],\n",
       "       [ 563.20811787,  583.53982952,  586.34095068],\n",
       "       [ 769.32875692,  774.75511138,  809.92508716],\n",
       "       [ 734.12169432,  710.12321231,  767.48944494],\n",
       "       [ 844.88342995,  829.00865371,  884.30201189],\n",
       "       [ 723.92246346,  723.55504883,  741.71589209]])"
      ]
     },
     "execution_count": 28,
     "metadata": {},
     "output_type": "execute_result"
    }
   ],
   "source": [
    "dataDisCI = pd.pivot_table(data[ ( data.cond_disPresent == \"present\") & (data[\"Search RT > 200\"] == 1) & (data.correct == 1)],\n",
    "                         values=\"responseTime\", index=\"subject_nr\", columns=\"cond_disLocation\")\n",
    "dataDisCI.values"
   ]
  },
  {
   "cell_type": "code",
   "execution_count": 29,
   "metadata": {},
   "outputs": [
    {
     "data": {
      "text/plain": [
       "array([4.64652754, 7.57134502, 6.04046631])"
      ]
     },
     "execution_count": 29,
     "metadata": {},
     "output_type": "execute_result"
    }
   ],
   "source": [
    "withinCIs = confidence_int(dataDisCI.values)\n",
    "withinCIs"
   ]
  },
  {
   "cell_type": "code",
   "execution_count": 30,
   "metadata": {},
   "outputs": [
    {
     "data": {
      "text/html": [
       "<div>\n",
       "<style scoped>\n",
       "    .dataframe tbody tr th:only-of-type {\n",
       "        vertical-align: middle;\n",
       "    }\n",
       "\n",
       "    .dataframe tbody tr th {\n",
       "        vertical-align: top;\n",
       "    }\n",
       "\n",
       "    .dataframe thead th {\n",
       "        text-align: right;\n",
       "    }\n",
       "</style>\n",
       "<table border=\"1\" class=\"dataframe\">\n",
       "  <thead>\n",
       "    <tr style=\"text-align: right;\">\n",
       "      <th></th>\n",
       "      <th>subject_nr</th>\n",
       "      <th>cond_disLocation</th>\n",
       "      <th>responseTime</th>\n",
       "    </tr>\n",
       "  </thead>\n",
       "  <tbody>\n",
       "    <tr>\n",
       "      <th>0</th>\n",
       "      <td>1</td>\n",
       "      <td>highProb</td>\n",
       "      <td>901.018699</td>\n",
       "    </tr>\n",
       "    <tr>\n",
       "      <th>1</th>\n",
       "      <td>2</td>\n",
       "      <td>highProb</td>\n",
       "      <td>624.201224</td>\n",
       "    </tr>\n",
       "    <tr>\n",
       "      <th>2</th>\n",
       "      <td>3</td>\n",
       "      <td>highProb</td>\n",
       "      <td>611.471170</td>\n",
       "    </tr>\n",
       "    <tr>\n",
       "      <th>3</th>\n",
       "      <td>4</td>\n",
       "      <td>highProb</td>\n",
       "      <td>812.504266</td>\n",
       "    </tr>\n",
       "    <tr>\n",
       "      <th>4</th>\n",
       "      <td>5</td>\n",
       "      <td>highProb</td>\n",
       "      <td>856.474157</td>\n",
       "    </tr>\n",
       "  </tbody>\n",
       "</table>\n",
       "</div>"
      ],
      "text/plain": [
       "   subject_nr cond_disLocation  responseTime\n",
       "0           1         highProb    901.018699\n",
       "1           2         highProb    624.201224\n",
       "2           3         highProb    611.471170\n",
       "3           4         highProb    812.504266\n",
       "4           5         highProb    856.474157"
      ]
     },
     "execution_count": 30,
     "metadata": {},
     "output_type": "execute_result"
    }
   ],
   "source": [
    "dataDisCI = pd.melt( dataDisCI.reset_index(),id_vars=\"subject_nr\", var_name=\"cond_disLocation\",\n",
    "                  value_vars=[\"highProb\",\"highProbOther\",\"lowProb\"], value_name=\"responseTime\")\n",
    "dataDisCI.head()"
   ]
  },
  {
   "cell_type": "code",
   "execution_count": 31,
   "metadata": {},
   "outputs": [
    {
     "ename": "AttributeError",
     "evalue": "module 'matplotlib.pyplot' has no attribute 'set_ylim'",
     "output_type": "error",
     "traceback": [
      "\u001b[0;31m---------------------------------------------------------------------------\u001b[0m",
      "\u001b[0;31mAttributeError\u001b[0m                            Traceback (most recent call last)",
      "\u001b[0;32m<ipython-input-31-ddeabe86169e>\u001b[0m in \u001b[0;36m<module>\u001b[0;34m\u001b[0m\n\u001b[1;32m      3\u001b[0m \u001b[0mplt\u001b[0m\u001b[0;34m.\u001b[0m\u001b[0mbar\u001b[0m\u001b[0;34m(\u001b[0m\u001b[0mnp\u001b[0m\u001b[0;34m.\u001b[0m\u001b[0marange\u001b[0m\u001b[0;34m(\u001b[0m\u001b[0mlen\u001b[0m\u001b[0;34m(\u001b[0m\u001b[0mmeans\u001b[0m\u001b[0;34m)\u001b[0m\u001b[0;34m)\u001b[0m\u001b[0;34m,\u001b[0m \u001b[0mmeans\u001b[0m\u001b[0;34m,\u001b[0m \u001b[0myerr\u001b[0m\u001b[0;34m=\u001b[0m\u001b[0mwithinCIs\u001b[0m\u001b[0;34m)\u001b[0m\u001b[0;34m\u001b[0m\u001b[0;34m\u001b[0m\u001b[0m\n\u001b[1;32m      4\u001b[0m \u001b[0mplt\u001b[0m\u001b[0;34m.\u001b[0m\u001b[0mxticks\u001b[0m\u001b[0;34m(\u001b[0m\u001b[0mnp\u001b[0m\u001b[0;34m.\u001b[0m\u001b[0marange\u001b[0m\u001b[0;34m(\u001b[0m\u001b[0mlen\u001b[0m\u001b[0;34m(\u001b[0m\u001b[0mmeans\u001b[0m\u001b[0;34m)\u001b[0m\u001b[0;34m)\u001b[0m\u001b[0;34m,\u001b[0m \u001b[0;34m(\u001b[0m\u001b[0;34m'test1'\u001b[0m\u001b[0;34m,\u001b[0m\u001b[0;34m'test2'\u001b[0m\u001b[0;34m,\u001b[0m\u001b[0;34m'test3'\u001b[0m\u001b[0;34m)\u001b[0m\u001b[0;34m)\u001b[0m\u001b[0;34m\u001b[0m\u001b[0;34m\u001b[0m\u001b[0m\n\u001b[0;32m----> 5\u001b[0;31m \u001b[0mplt\u001b[0m\u001b[0;34m.\u001b[0m\u001b[0mset_ylim\u001b[0m\u001b[0;34m(\u001b[0m\u001b[0;36m700\u001b[0m\u001b[0;34m,\u001b[0m\u001b[0;36m800\u001b[0m\u001b[0;34m)\u001b[0m\u001b[0;34m\u001b[0m\u001b[0;34m\u001b[0m\u001b[0m\n\u001b[0m\u001b[1;32m      6\u001b[0m \u001b[0msns\u001b[0m\u001b[0;34m.\u001b[0m\u001b[0mset_style\u001b[0m\u001b[0;34m(\u001b[0m\u001b[0;34m'white'\u001b[0m\u001b[0;34m,\u001b[0m \u001b[0;34m{\u001b[0m\u001b[0;34m\"axes.spines.right\"\u001b[0m\u001b[0;34m:\u001b[0m \u001b[0;32mFalse\u001b[0m\u001b[0;34m,\u001b[0m \u001b[0;34m\"axes.spines.top\"\u001b[0m\u001b[0;34m:\u001b[0m \u001b[0;32mFalse\u001b[0m\u001b[0;34m,\u001b[0m \u001b[0;34m\"xtick.bottom\"\u001b[0m\u001b[0;34m:\u001b[0m \u001b[0;32mTrue\u001b[0m\u001b[0;34m,\u001b[0m \u001b[0;34m\"ytick.left\"\u001b[0m\u001b[0;34m:\u001b[0m \u001b[0;32mTrue\u001b[0m\u001b[0;34m}\u001b[0m\u001b[0;34m)\u001b[0m\u001b[0;34m\u001b[0m\u001b[0;34m\u001b[0m\u001b[0m\n",
      "\u001b[0;31mAttributeError\u001b[0m: module 'matplotlib.pyplot' has no attribute 'set_ylim'"
     ]
    },
    {
     "data": {
      "image/png": "[encoded data removed]",
      "text/plain": [
       "<Figure size 432x288 with 1 Axes>"
      ]
     },
     "metadata": {},
     "output_type": "display_data"
    }
   ],
   "source": [
    "import matplotlib.pyplot as plt\n",
    "means = dataDisCI.groupby( [\"cond_disLocation\"])[\"responseTime\"].mean().values\n",
    "plt.bar(np.arange(len(means)), means, yerr=withinCIs)\n",
    "plt.xticks(np.arange(len(means)), ('test1','test2','test3'))\n",
    "plt.set_ylim(700,800)\n",
    "sns.set_style('white', {\"axes.spines.right\": False, \"axes.spines.top\": False, \"xtick.bottom\": True, \"ytick.left\": True})"
   ]
  },
  {
   "cell_type": "code",
   "execution_count": null,
   "metadata": {},
   "outputs": [],
   "source": [
    "import seaborn as sns\n",
    "axes = sns.barplot(x=\"cond_disLocation\", y=\"responseTime\", data=dataDisCI, ci=None, yerr=withinCIs)\n",
    "axes.set_ylim(700,800)"
   ]
  }
 ],
 "metadata": {
  "kernelspec": {
   "display_name": "Python 3",
   "language": "python",
   "name": "python3"
  },
  "language_info": {
   "codemirror_mode": {
    "name": "ipython",
    "version": 3
   },
   "file_extension": ".py",
   "mimetype": "text/x-python",
   "name": "python",
   "nbconvert_exporter": "python",
   "pygments_lexer": "ipython3",
   "version": "3.7.1"
  }
 },
 "nbformat": 4,
 "nbformat_minor": 2
}
